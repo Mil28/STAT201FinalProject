{
 "cells": [
  {
   "cell_type": "markdown",
   "metadata": {},
   "source": [
    "# STAT 201 Final Project\n",
    "## Cardiovascular Disease Dataset\n",
    "### Matt Lashner\n",
    "___"
   ]
  },
  {
   "cell_type": "code",
   "execution_count": 52,
   "metadata": {},
   "outputs": [],
   "source": [
    "import numpy as np\n",
    "import pandas as pd\n",
    "import seaborn as sns\n",
    "import matplotlib.pyplot as plt\n",
    "%matplotlib inline "
   ]
  },
  {
   "cell_type": "code",
   "execution_count": 53,
   "metadata": {},
   "outputs": [],
   "source": [
    "# Read in CSV file\n",
    "cardio = pd.read_csv(\"cardio_train.csv\", delimiter=\";\")"
   ]
  },
  {
   "cell_type": "code",
   "execution_count": 54,
   "metadata": {},
   "outputs": [],
   "source": [
    "#Drop unwanted rows\n",
    "cardio.drop([\"alco\", \"ap_hi\", \"ap_lo\", \"gluc\", \"cholesterol\", \"smoke\"], axis=1, inplace=True)"
   ]
  },
  {
   "cell_type": "code",
   "execution_count": 55,
   "metadata": {},
   "outputs": [
    {
     "data": {
      "text/plain": [
       "(70000, 7)"
      ]
     },
     "execution_count": 55,
     "metadata": {},
     "output_type": "execute_result"
    }
   ],
   "source": [
    "# Take a look at the shape of the data (rows and columns)\n",
    "cardio.shape"
   ]
  },
  {
   "cell_type": "code",
   "execution_count": 56,
   "metadata": {},
   "outputs": [
    {
     "data": {
      "text/html": [
       "<div>\n",
       "<style scoped>\n",
       "    .dataframe tbody tr th:only-of-type {\n",
       "        vertical-align: middle;\n",
       "    }\n",
       "\n",
       "    .dataframe tbody tr th {\n",
       "        vertical-align: top;\n",
       "    }\n",
       "\n",
       "    .dataframe thead th {\n",
       "        text-align: right;\n",
       "    }\n",
       "</style>\n",
       "<table border=\"1\" class=\"dataframe\">\n",
       "  <thead>\n",
       "    <tr style=\"text-align: right;\">\n",
       "      <th></th>\n",
       "      <th>id</th>\n",
       "      <th>age</th>\n",
       "      <th>gender</th>\n",
       "      <th>height</th>\n",
       "      <th>weight</th>\n",
       "      <th>active</th>\n",
       "      <th>cardio</th>\n",
       "    </tr>\n",
       "  </thead>\n",
       "  <tbody>\n",
       "    <tr>\n",
       "      <th>0</th>\n",
       "      <td>0</td>\n",
       "      <td>18393</td>\n",
       "      <td>2</td>\n",
       "      <td>168</td>\n",
       "      <td>62.0</td>\n",
       "      <td>1</td>\n",
       "      <td>0</td>\n",
       "    </tr>\n",
       "    <tr>\n",
       "      <th>1</th>\n",
       "      <td>1</td>\n",
       "      <td>20228</td>\n",
       "      <td>1</td>\n",
       "      <td>156</td>\n",
       "      <td>85.0</td>\n",
       "      <td>1</td>\n",
       "      <td>1</td>\n",
       "    </tr>\n",
       "    <tr>\n",
       "      <th>2</th>\n",
       "      <td>2</td>\n",
       "      <td>18857</td>\n",
       "      <td>1</td>\n",
       "      <td>165</td>\n",
       "      <td>64.0</td>\n",
       "      <td>0</td>\n",
       "      <td>1</td>\n",
       "    </tr>\n",
       "    <tr>\n",
       "      <th>3</th>\n",
       "      <td>3</td>\n",
       "      <td>17623</td>\n",
       "      <td>2</td>\n",
       "      <td>169</td>\n",
       "      <td>82.0</td>\n",
       "      <td>1</td>\n",
       "      <td>1</td>\n",
       "    </tr>\n",
       "    <tr>\n",
       "      <th>4</th>\n",
       "      <td>4</td>\n",
       "      <td>17474</td>\n",
       "      <td>1</td>\n",
       "      <td>156</td>\n",
       "      <td>56.0</td>\n",
       "      <td>0</td>\n",
       "      <td>0</td>\n",
       "    </tr>\n",
       "  </tbody>\n",
       "</table>\n",
       "</div>"
      ],
      "text/plain": [
       "   id    age  gender  height  weight  active  cardio\n",
       "0   0  18393       2     168    62.0       1       0\n",
       "1   1  20228       1     156    85.0       1       1\n",
       "2   2  18857       1     165    64.0       0       1\n",
       "3   3  17623       2     169    82.0       1       1\n",
       "4   4  17474       1     156    56.0       0       0"
      ]
     },
     "execution_count": 56,
     "metadata": {},
     "output_type": "execute_result"
    }
   ],
   "source": [
    "# Take a look at the first 5 lines of data\n",
    "cardio.head()"
   ]
  },
  {
   "cell_type": "markdown",
   "metadata": {},
   "source": [
    "This dataset is composed of 70,000 rows and 7 variables. Each row represents one patient who participated in a medical study. The data records information about each patient, such as their age, gender, etc. The data also notes whether each patient has, or does not have, a cardiac disease, represented by 1 (disease present) or 0 (no disease present). I am interested in this dataset because I am an EMT and I love cardiology. I didn't want to get too fancy, so I decided to focus on a patient's body makeup and lifestyle. Understanding factors that affect cardiovascular health can help further medical innovation and research. Based on the fact that I will be primarily correlating cardiac disease with one factor, I do not expect too much correlation, as I believe that it is generally an aggregation of factors. I got this dataset from kaggle [here](https://www.kaggle.com/sulianova/cardiovascular-disease-dataset/version/1?almost-there=true&token=CfDJ8LdUzqlsSWBPr4Ce3rb9VL9Ia1Xb1b48pFhvx1Ee1Br3n0AWqZkcRtJTY_tP9uqt97qRfWKegY6fCRGnCzd4JUHVPrxTXR-PNDKrZt4pmy-N1y8RFv5pfaeAQF3KyG-XTz0nx64om_mEbHPQHvk9-8Zguoa7cyUGo9hGR4C9CC5vXipxGg7Q8a7XZnEs3EayD3zUrRqYRlxcSKnArduq-Kw5u3N8scD1t2Eox-f80KygHSytqhze2tSDkAaKfsoFyB0ldWJgWqZlyWcsAv7DuHV659eVbuqX09NdSd3RSwNo7_D-nfPS3UQWB9JekzWf2G6DT7ohm5CyD06dZeFtmu4M0fl3VShlDLk2EW8MuN6S9Xece3hEHpKF9XhlkxvCJk6JRPjMtjJACABpb7GPRPxsbxma_BYhQen4U0ZXlbaGQWz6LBN0mjqGaBQDl2CFewZBBg4l4nhwin2VMW-jtIOAZH-gbg6b56GBVSUO18-fB1LHGzs-SPU302VCC7ExQOlGWwZm537KNKLjdIFWYjps90EGtYiAND8-hD9kfoFftizGiFYD1WAG49dgdBYiq13yzjEKGwiSsN_Ph43L3Us).  "
   ]
  },
  {
   "cell_type": "code",
   "execution_count": 57,
   "metadata": {
    "scrolled": true
   },
   "outputs": [
    {
     "name": "stdout",
     "output_type": "stream",
     "text": [
      "<class 'pandas.core.frame.DataFrame'>\n",
      "RangeIndex: 70000 entries, 0 to 69999\n",
      "Data columns (total 7 columns):\n",
      "id        70000 non-null int64\n",
      "age       70000 non-null int64\n",
      "gender    70000 non-null int64\n",
      "height    70000 non-null int64\n",
      "weight    70000 non-null float64\n",
      "active    70000 non-null int64\n",
      "cardio    70000 non-null int64\n",
      "dtypes: float64(1), int64(6)\n",
      "memory usage: 3.7 MB\n"
     ]
    }
   ],
   "source": [
    "cardio.info()"
   ]
  },
  {
   "cell_type": "markdown",
   "metadata": {},
   "source": [
    "The nominal variables is: gender (1 = female, 2 = male). active (0 = is not active, 1 = is active), and cardio (0 = no disease present, 1 = disease present) are also nominal binary variables\n",
    "\n",
    "There are no ordinal, nor interval values.\n",
    "\n",
    "The ratio variables are: age (in days) height (in cm) and weight (in kg)."
   ]
  },
  {
   "cell_type": "markdown",
   "metadata": {},
   "source": [
    "### Age"
   ]
  },
  {
   "cell_type": "code",
   "execution_count": 58,
   "metadata": {
    "scrolled": true
   },
   "outputs": [
    {
     "data": {
      "text/plain": [
       "19741    32\n",
       "18236    32\n",
       "20376    31\n",
       "20442    31\n",
       "18253    31\n",
       "20457    30\n",
       "21159    30\n",
       "21892    30\n",
       "20464    30\n",
       "18184    30\n",
       "20389    29\n",
       "21867    29\n",
       "20359    29\n",
       "20401    29\n",
       "21927    29\n",
       "19733    29\n",
       "19657    29\n",
       "20370    28\n",
       "21142    28\n",
       "19709    28\n",
       "21225    28\n",
       "19711    28\n",
       "20347    28\n",
       "19770    28\n",
       "18189    28\n",
       "19721    28\n",
       "20490    28\n",
       "21147    28\n",
       "21191    27\n",
       "21117    27\n",
       "         ..\n",
       "16956     1\n",
       "17943     1\n",
       "15768     1\n",
       "15027     1\n",
       "14795     1\n",
       "15732     1\n",
       "20934     1\n",
       "23659     1\n",
       "22200     1\n",
       "21611     1\n",
       "23658     1\n",
       "23594     1\n",
       "18554     1\n",
       "16204     1\n",
       "18682     1\n",
       "16268     1\n",
       "16332     1\n",
       "16452     1\n",
       "14900     1\n",
       "17019     1\n",
       "20779     1\n",
       "18565     1\n",
       "16359     1\n",
       "16323     1\n",
       "16167     1\n",
       "17768     1\n",
       "21497     1\n",
       "15591     1\n",
       "23672     1\n",
       "14329     1\n",
       "Name: age, Length: 8076, dtype: int64"
      ]
     },
     "execution_count": 58,
     "metadata": {},
     "output_type": "execute_result"
    }
   ],
   "source": [
    "# Distribution of age\n",
    "cardio.age.value_counts()"
   ]
  },
  {
   "cell_type": "code",
   "execution_count": 59,
   "metadata": {},
   "outputs": [
    {
     "data": {
      "text/plain": [
       "<matplotlib.axes._subplots.AxesSubplot at 0x27f2e9f6e10>"
      ]
     },
     "execution_count": 59,
     "metadata": {},
     "output_type": "execute_result"
    },
    {
     "data": {
      "image/png": "[encoded data removed]",
      "text/plain": [
       "<Figure size 432x288 with 1 Axes>"
      ]
     },
     "metadata": {
      "needs_background": "light"
     },
     "output_type": "display_data"
    }
   ],
   "source": [
    "# Create a new variable to convert age to years (2 decimal places) \n",
    "ageyear = round(cardio.age/365,2)\n",
    "\n",
    "# Create 10 bins of equal width, and print column chart \n",
    "pd.cut(ageyear, 10).value_counts(sort = False).plot.bar()"
   ]
  },
  {
   "cell_type": "code",
   "execution_count": 60,
   "metadata": {},
   "outputs": [
    {
     "name": "stdout",
     "output_type": "stream",
     "text": [
      "Mean age in days: 19468.865814285713\n",
      "Mean age in years: 53.33935839530332\n"
     ]
    }
   ],
   "source": [
    "# Mean age in days\n",
    "print(\"Mean age in days:\", cardio.age.mean())\n",
    "print(\"Mean age in years:\", cardio.age.mean()/365)"
   ]
  },
  {
   "cell_type": "code",
   "execution_count": 61,
   "metadata": {},
   "outputs": [
    {
     "data": {
      "text/plain": [
       "count    70000.000000\n",
       "mean     19468.865814\n",
       "std       2467.251667\n",
       "min      10798.000000\n",
       "25%      17664.000000\n",
       "50%      19703.000000\n",
       "75%      21327.000000\n",
       "max      23713.000000\n",
       "Name: age, dtype: float64"
      ]
     },
     "execution_count": 61,
     "metadata": {},
     "output_type": "execute_result"
    }
   ],
   "source": [
    "# Measures of central tendancy and distribution for age in days\n",
    "cardio.age.describe()"
   ]
  },
  {
   "cell_type": "markdown",
   "metadata": {},
   "source": [
    "The mean age in days is 19468.9 days, and in years is 53.3 years. This is less than the median (19703 days). Based on this, and the histogram above, there seems to be a slight left skew in the data. The youngest person is 10798 days old, and the oldest is 23713 days old. This is a range of 12915 days (35.4 years)."
   ]
  },
  {
   "cell_type": "markdown",
   "metadata": {},
   "source": [
    "### Weight"
   ]
  },
  {
   "cell_type": "code",
   "execution_count": 62,
   "metadata": {},
   "outputs": [
    {
     "data": {
      "text/plain": [
       "<matplotlib.axes._subplots.AxesSubplot at 0x27f2e9c3ac8>"
      ]
     },
     "execution_count": 62,
     "metadata": {},
     "output_type": "execute_result"
    },
    {
     "data": {
      "image/png": "[encoded data removed]",
      "text/plain": [
       "<Figure size 432x288 with 1 Axes>"
      ]
     },
     "metadata": {
      "needs_background": "light"
     },
     "output_type": "display_data"
    }
   ],
   "source": [
    "# Create 10 bins of equal width, and print column chart \n",
    "pd.cut(cardio.weight, 10).value_counts(sort = False).plot.bar()"
   ]
  },
  {
   "cell_type": "code",
   "execution_count": 63,
   "metadata": {},
   "outputs": [
    {
     "name": "stdout",
     "output_type": "stream",
     "text": [
      "Mean weight in Kg: 74.20569\n"
     ]
    }
   ],
   "source": [
    "# Mean weight in Kg\n",
    "print(\"Mean weight in Kg:\", cardio.weight.mean())"
   ]
  },
  {
   "cell_type": "code",
   "execution_count": 64,
   "metadata": {},
   "outputs": [
    {
     "data": {
      "text/plain": [
       "count    70000.000000\n",
       "mean        74.205690\n",
       "std         14.395757\n",
       "min         10.000000\n",
       "25%         65.000000\n",
       "50%         72.000000\n",
       "75%         82.000000\n",
       "max        200.000000\n",
       "Name: weight, dtype: float64"
      ]
     },
     "execution_count": 64,
     "metadata": {},
     "output_type": "execute_result"
    }
   ],
   "source": [
    "# Measures of central tendancy and distribution for weight in Kg\n",
    "cardio.weight.describe()"
   ]
  },
  {
   "cell_type": "markdown",
   "metadata": {},
   "source": [
    "The mean weight in Kg is 74.2. This is greater than the median (72.0). Based on this, and the histogram above, there seems to be a right skew in the data. The lightest person is 10 Kg, and the heaviest is 200 Kg. This is a range of 190 Kg."
   ]
  },
  {
   "cell_type": "markdown",
   "metadata": {},
   "source": [
    "### Height"
   ]
  },
  {
   "cell_type": "code",
   "execution_count": 65,
   "metadata": {},
   "outputs": [
    {
     "data": {
      "text/plain": [
       "<matplotlib.axes._subplots.AxesSubplot at 0x27f2f2e36a0>"
      ]
     },
     "execution_count": 65,
     "metadata": {},
     "output_type": "execute_result"
    },
    {
     "data": {
      "image/png": "[encoded data removed]",
      "text/plain": [
       "<Figure size 720x360 with 1 Axes>"
      ]
     },
     "metadata": {
      "needs_background": "light"
     },
     "output_type": "display_data"
    }
   ],
   "source": [
    "# Create 15 bins of eq`ual width, and print column chart \n",
    "pd.cut(cardio.height, 15).value_counts(sort = False).plot.bar(figsize = (10,5))"
   ]
  },
  {
   "cell_type": "code",
   "execution_count": 66,
   "metadata": {},
   "outputs": [
    {
     "name": "stdout",
     "output_type": "stream",
     "text": [
      "Mean height in cm: 164.35922857142856\n"
     ]
    }
   ],
   "source": [
    "# Mean height in cm\n",
    "print(\"Mean height in cm:\", cardio.height.mean())"
   ]
  },
  {
   "cell_type": "code",
   "execution_count": 67,
   "metadata": {},
   "outputs": [
    {
     "data": {
      "text/plain": [
       "count    70000.000000\n",
       "mean       164.359229\n",
       "std          8.210126\n",
       "min         55.000000\n",
       "25%        159.000000\n",
       "50%        165.000000\n",
       "75%        170.000000\n",
       "max        250.000000\n",
       "Name: height, dtype: float64"
      ]
     },
     "execution_count": 67,
     "metadata": {},
     "output_type": "execute_result"
    }
   ],
   "source": [
    "# Measures of central tendancy and distribution for height in cm\n",
    "cardio.height.describe()"
   ]
  },
  {
   "cell_type": "markdown",
   "metadata": {},
   "source": [
    "The mean height in cm is 164.4. This is less than the median (165.0). Based on this, and the histogram above, there seems to be a left skew in the data. The shortest person is 55 cm tall, and the tallest is 250 cm tall. This is a range of 195 cm."
   ]
  },
  {
   "cell_type": "markdown",
   "metadata": {},
   "source": [
    "### Gender"
   ]
  },
  {
   "cell_type": "code",
   "execution_count": 68,
   "metadata": {},
   "outputs": [
    {
     "data": {
      "text/plain": [
       "1    45530\n",
       "2    24470\n",
       "Name: gender, dtype: int64"
      ]
     },
     "execution_count": 68,
     "metadata": {},
     "output_type": "execute_result"
    }
   ],
   "source": [
    "# Distribution of gender (women = 1 and men = 2)\n",
    "cardio.gender.value_counts()"
   ]
  },
  {
   "cell_type": "code",
   "execution_count": 69,
   "metadata": {},
   "outputs": [
    {
     "data": {
      "text/plain": [
       "<matplotlib.axes._subplots.AxesSubplot at 0x27f305eb1d0>"
      ]
     },
     "execution_count": 69,
     "metadata": {},
     "output_type": "execute_result"
    },
    {
     "data": {
      "image/png": "[encoded data removed]",
      "text/plain": [
       "<Figure size 432x288 with 1 Axes>"
      ]
     },
     "metadata": {
      "needs_background": "light"
     },
     "output_type": "display_data"
    }
   ],
   "source": [
    "# Create column chart showing Women (1) and Men (2)\n",
    "cardio.gender.value_counts(sort = False).plot.bar()"
   ]
  },
  {
   "cell_type": "markdown",
   "metadata": {},
   "source": [
    "Out of the total 70,000 population, 45,530 (~65%) are women, and 24,470 (~35%) are men."
   ]
  },
  {
   "cell_type": "markdown",
   "metadata": {},
   "source": [
    "### Active"
   ]
  },
  {
   "cell_type": "code",
   "execution_count": 70,
   "metadata": {},
   "outputs": [
    {
     "data": {
      "text/plain": [
       "1    56261\n",
       "0    13739\n",
       "Name: active, dtype: int64"
      ]
     },
     "execution_count": 70,
     "metadata": {},
     "output_type": "execute_result"
    }
   ],
   "source": [
    "# Distribution of Active (0 = not active, 1 = active)\n",
    "cardio.active.value_counts()"
   ]
  },
  {
   "cell_type": "code",
   "execution_count": 71,
   "metadata": {},
   "outputs": [
    {
     "data": {
      "text/plain": [
       "<matplotlib.axes._subplots.AxesSubplot at 0x27f306a4c50>"
      ]
     },
     "execution_count": 71,
     "metadata": {},
     "output_type": "execute_result"
    },
    {
     "data": {
      "image/png": "[encoded data removed]",
      "text/plain": [
       "<Figure size 432x288 with 1 Axes>"
      ]
     },
     "metadata": {
      "needs_background": "light"
     },
     "output_type": "display_data"
    }
   ],
   "source": [
    "# Create column chart showing Active (0 = not active, 1 = active)\n",
    "cardio.active.value_counts(sort = False).plot.bar()"
   ]
  },
  {
   "cell_type": "markdown",
   "metadata": {},
   "source": [
    "Out of the total 70,000 population, 56,261 (~80%) are active, and 13,739 (~20%) are not."
   ]
  },
  {
   "cell_type": "markdown",
   "metadata": {},
   "source": [
    "### Cardio"
   ]
  },
  {
   "cell_type": "code",
   "execution_count": 72,
   "metadata": {},
   "outputs": [
    {
     "data": {
      "text/plain": [
       "0    35021\n",
       "1    34979\n",
       "Name: cardio, dtype: int64"
      ]
     },
     "execution_count": 72,
     "metadata": {},
     "output_type": "execute_result"
    }
   ],
   "source": [
    "# Distribution of cardio (no cardiac disease = 0 and cardiac disease = 1)\n",
    "cardio.cardio.value_counts()"
   ]
  },
  {
   "cell_type": "code",
   "execution_count": 73,
   "metadata": {},
   "outputs": [
    {
     "data": {
      "text/plain": [
       "<matplotlib.axes._subplots.AxesSubplot at 0x27f30825438>"
      ]
     },
     "execution_count": 73,
     "metadata": {},
     "output_type": "execute_result"
    },
    {
     "data": {
      "image/png": "[encoded data removed]",
      "text/plain": [
       "<Figure size 432x288 with 1 Axes>"
      ]
     },
     "metadata": {
      "needs_background": "light"
     },
     "output_type": "display_data"
    }
   ],
   "source": [
    "# Create column chart showing Active (0 = not active, 1 = active)\n",
    "cardio.cardio.value_counts(sort = False).plot.bar()"
   ]
  },
  {
   "cell_type": "markdown",
   "metadata": {},
   "source": [
    "Out of the total 70,000 population, 35,021 (~50%) are active, and 34,979 (~50%) are not."
   ]
  },
  {
   "cell_type": "markdown",
   "metadata": {},
   "source": [
    "# Data Visualization"
   ]
  },
  {
   "cell_type": "code",
   "execution_count": 74,
   "metadata": {},
   "outputs": [
    {
     "data": {
      "text/html": [
       "<div>\n",
       "<style scoped>\n",
       "    .dataframe tbody tr th:only-of-type {\n",
       "        vertical-align: middle;\n",
       "    }\n",
       "\n",
       "    .dataframe tbody tr th {\n",
       "        vertical-align: top;\n",
       "    }\n",
       "\n",
       "    .dataframe thead th {\n",
       "        text-align: right;\n",
       "    }\n",
       "</style>\n",
       "<table border=\"1\" class=\"dataframe\">\n",
       "  <thead>\n",
       "    <tr style=\"text-align: right;\">\n",
       "      <th></th>\n",
       "      <th>age</th>\n",
       "      <th>gender</th>\n",
       "      <th>height</th>\n",
       "      <th>weight</th>\n",
       "      <th>active</th>\n",
       "      <th>cardio</th>\n",
       "    </tr>\n",
       "  </thead>\n",
       "  <tbody>\n",
       "    <tr>\n",
       "      <th>age</th>\n",
       "      <td>1.000000</td>\n",
       "      <td>-0.022811</td>\n",
       "      <td>-0.081515</td>\n",
       "      <td>0.053684</td>\n",
       "      <td>-0.009927</td>\n",
       "      <td>0.238159</td>\n",
       "    </tr>\n",
       "    <tr>\n",
       "      <th>gender</th>\n",
       "      <td>-0.022811</td>\n",
       "      <td>1.000000</td>\n",
       "      <td>0.499033</td>\n",
       "      <td>0.155406</td>\n",
       "      <td>0.005866</td>\n",
       "      <td>0.008109</td>\n",
       "    </tr>\n",
       "    <tr>\n",
       "      <th>height</th>\n",
       "      <td>-0.081515</td>\n",
       "      <td>0.499033</td>\n",
       "      <td>1.000000</td>\n",
       "      <td>0.290968</td>\n",
       "      <td>-0.006570</td>\n",
       "      <td>-0.010821</td>\n",
       "    </tr>\n",
       "    <tr>\n",
       "      <th>weight</th>\n",
       "      <td>0.053684</td>\n",
       "      <td>0.155406</td>\n",
       "      <td>0.290968</td>\n",
       "      <td>1.000000</td>\n",
       "      <td>-0.016867</td>\n",
       "      <td>0.181660</td>\n",
       "    </tr>\n",
       "    <tr>\n",
       "      <th>active</th>\n",
       "      <td>-0.009927</td>\n",
       "      <td>0.005866</td>\n",
       "      <td>-0.006570</td>\n",
       "      <td>-0.016867</td>\n",
       "      <td>1.000000</td>\n",
       "      <td>-0.035653</td>\n",
       "    </tr>\n",
       "    <tr>\n",
       "      <th>cardio</th>\n",
       "      <td>0.238159</td>\n",
       "      <td>0.008109</td>\n",
       "      <td>-0.010821</td>\n",
       "      <td>0.181660</td>\n",
       "      <td>-0.035653</td>\n",
       "      <td>1.000000</td>\n",
       "    </tr>\n",
       "  </tbody>\n",
       "</table>\n",
       "</div>"
      ],
      "text/plain": [
       "             age    gender    height    weight    active    cardio\n",
       "age     1.000000 -0.022811 -0.081515  0.053684 -0.009927  0.238159\n",
       "gender -0.022811  1.000000  0.499033  0.155406  0.005866  0.008109\n",
       "height -0.081515  0.499033  1.000000  0.290968 -0.006570 -0.010821\n",
       "weight  0.053684  0.155406  0.290968  1.000000 -0.016867  0.181660\n",
       "active -0.009927  0.005866 -0.006570 -0.016867  1.000000 -0.035653\n",
       "cardio  0.238159  0.008109 -0.010821  0.181660 -0.035653  1.000000"
      ]
     },
     "execution_count": 74,
     "metadata": {},
     "output_type": "execute_result"
    }
   ],
   "source": [
    "# measure correlation between variables (don't include ID because it is an arbitrary identifying key)\n",
    "corr = cardio[['age', 'gender', 'height', 'weight', 'active', 'cardio']].corr()\n",
    "corr"
   ]
  },
  {
   "cell_type": "code",
   "execution_count": 75,
   "metadata": {},
   "outputs": [
    {
     "data": {
      "image/png": "[encoded data removed]",
      "text/plain": [
       "<Figure size 432x288 with 2 Axes>"
      ]
     },
     "metadata": {
      "needs_background": "light"
     },
     "output_type": "display_data"
    }
   ],
   "source": [
    "# Create heatmap correlating all values\n",
    "heat_map = sns.heatmap(corr, cmap = \"Greens\")"
   ]
  },
  {
   "cell_type": "markdown",
   "metadata": {},
   "source": [
    "Using my prior knowledge, I created a heatmap to view the correlations between variables. Upon inspection, I see a correlation between age and cardio, as well as weight and cardio (I am only interested in correlating variables with cardio).\n",
    "\n",
    "My next step will be to explore how age and weight relate to the presence of cardiac disease."
   ]
  },
  {
   "cell_type": "code",
   "execution_count": 76,
   "metadata": {},
   "outputs": [
    {
     "data": {
      "text/html": [
       "<div>\n",
       "<style scoped>\n",
       "    .dataframe tbody tr th:only-of-type {\n",
       "        vertical-align: middle;\n",
       "    }\n",
       "\n",
       "    .dataframe tbody tr th {\n",
       "        vertical-align: top;\n",
       "    }\n",
       "\n",
       "    .dataframe thead th {\n",
       "        text-align: right;\n",
       "    }\n",
       "</style>\n",
       "<table border=\"1\" class=\"dataframe\">\n",
       "  <thead>\n",
       "    <tr style=\"text-align: right;\">\n",
       "      <th></th>\n",
       "      <th>cardio</th>\n",
       "      <th>ageyears</th>\n",
       "    </tr>\n",
       "  </thead>\n",
       "  <tbody>\n",
       "    <tr>\n",
       "      <th>1</th>\n",
       "      <td>1</td>\n",
       "      <td>54.950158</td>\n",
       "    </tr>\n",
       "    <tr>\n",
       "      <th>0</th>\n",
       "      <td>0</td>\n",
       "      <td>51.730471</td>\n",
       "    </tr>\n",
       "  </tbody>\n",
       "</table>\n",
       "</div>"
      ],
      "text/plain": [
       "   cardio   ageyears\n",
       "1       1  54.950158\n",
       "0       0  51.730471"
      ]
     },
     "execution_count": 76,
     "metadata": {},
     "output_type": "execute_result"
    }
   ],
   "source": [
    "# Create a chart of average age in years with and without cardiac disease\n",
    "cardio['ageyears'] = round(cardio.age/365,2)\n",
    "cardio[['cardio', 'ageyears']].groupby(['cardio'], as_index=False).mean().sort_values(by='cardio', ascending=False)"
   ]
  },
  {
   "cell_type": "code",
   "execution_count": 77,
   "metadata": {},
   "outputs": [
    {
     "data": {
      "text/plain": [
       "<matplotlib.axes._subplots.AxesSubplot at 0x27f30e9e7b8>"
      ]
     },
     "execution_count": 77,
     "metadata": {},
     "output_type": "execute_result"
    },
    {
     "data": {
      "image/png": "[encoded data removed]",
      "text/plain": [
       "<Figure size 432x288 with 1 Axes>"
      ]
     },
     "metadata": {
      "needs_background": "light"
     },
     "output_type": "display_data"
    }
   ],
   "source": [
    "# Create a chart of average age in years with and without cardiac disease\n",
    "cardio['ageyears'] = round(cardio.age/365,2)\n",
    "cardio[['cardio', 'ageyears']].groupby(['cardio']).mean().sort_values(by='cardio', ascending=False).plot.bar()"
   ]
  },
  {
   "cell_type": "markdown",
   "metadata": {},
   "source": [
    "This graph shows the average age, in years, for patients with, and without cardiac disease. We can see that there actually is not much of a difference, so based off of this data, age may not be that much of a deciding factor in cardiac disease. "
   ]
  },
  {
   "cell_type": "code",
   "execution_count": 78,
   "metadata": {},
   "outputs": [
    {
     "data": {
      "text/html": [
       "<div>\n",
       "<style scoped>\n",
       "    .dataframe tbody tr th:only-of-type {\n",
       "        vertical-align: middle;\n",
       "    }\n",
       "\n",
       "    .dataframe tbody tr th {\n",
       "        vertical-align: top;\n",
       "    }\n",
       "\n",
       "    .dataframe thead th {\n",
       "        text-align: right;\n",
       "    }\n",
       "</style>\n",
       "<table border=\"1\" class=\"dataframe\">\n",
       "  <thead>\n",
       "    <tr style=\"text-align: right;\">\n",
       "      <th></th>\n",
       "      <th>cardio</th>\n",
       "      <th>weight</th>\n",
       "    </tr>\n",
       "  </thead>\n",
       "  <tbody>\n",
       "    <tr>\n",
       "      <th>1</th>\n",
       "      <td>1</td>\n",
       "      <td>76.822368</td>\n",
       "    </tr>\n",
       "    <tr>\n",
       "      <th>0</th>\n",
       "      <td>0</td>\n",
       "      <td>71.592150</td>\n",
       "    </tr>\n",
       "  </tbody>\n",
       "</table>\n",
       "</div>"
      ],
      "text/plain": [
       "   cardio     weight\n",
       "1       1  76.822368\n",
       "0       0  71.592150"
      ]
     },
     "execution_count": 78,
     "metadata": {},
     "output_type": "execute_result"
    }
   ],
   "source": [
    "# Create a chart of average weight in Kg with and without cardiac disease\n",
    "cardio[['cardio', 'weight']].groupby(['cardio'], as_index=False).mean().sort_values(by='cardio', ascending=False)"
   ]
  },
  {
   "cell_type": "code",
   "execution_count": 79,
   "metadata": {},
   "outputs": [
    {
     "data": {
      "text/plain": [
       "<matplotlib.axes._subplots.AxesSubplot at 0x27f310026a0>"
      ]
     },
     "execution_count": 79,
     "metadata": {},
     "output_type": "execute_result"
    },
    {
     "data": {
      "image/png": "[encoded data removed]",
      "text/plain": [
       "<Figure size 432x288 with 1 Axes>"
      ]
     },
     "metadata": {
      "needs_background": "light"
     },
     "output_type": "display_data"
    }
   ],
   "source": [
    "# Create a chart of average weight in Kg with and without cardiac disease\n",
    "cardio[['cardio', 'weight']].groupby(['cardio']).mean().sort_values(by='cardio', ascending=False).plot.bar()"
   ]
  },
  {
   "cell_type": "markdown",
   "metadata": {},
   "source": [
    "This graph shows the average weight, in Kg, of patients with, and without cardiac disease. As with the age chart, we can see that there is not much of a correlation, so, again, based on this data, weight may also not be much of a deciding factor in cardiac disease."
   ]
  },
  {
   "cell_type": "markdown",
   "metadata": {},
   "source": [
    "Overall, there did not seem to be much of a correlation between any of the variables and cardiac disease. This makes sense based off of my prior knowledge that multiple factors affect cardiac health. Future analysis could look deeper into how variables interact with each other to affect cardiac health. This project forced me to step out of my comfort zone, and play around with Python more. Future work could include all of the variables in this data set."
   ]
  }
 ],
 "metadata": {
  "kernelspec": {
   "display_name": "Python 3",
   "language": "python",
   "name": "python3"
  },
  "language_info": {
   "codemirror_mode": {
    "name": "ipython",
    "version": 3
   },
   "file_extension": ".py",
   "mimetype": "text/x-python",
   "name": "python",
   "nbconvert_exporter": "python",
   "pygments_lexer": "ipython3",
   "version": "3.7.3"
  }
 },
 "nbformat": 4,
 "nbformat_minor": 2
}
